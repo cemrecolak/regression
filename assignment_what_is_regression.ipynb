{
 "cells": [
  {
   "cell_type": "markdown",
   "metadata": {},
   "source": [
    "# Assignments for \"What is Regression\"\n",
    "1) Let's assume that you have World Bank data on financial, economic and social indicators for several countries. You want to measure the factors that affect the level of development in these countries. To this end, you decide to use per capita income as a proxy for the development level, which is defined as the national income divided by the population. You want to use some features in your dataset to predict per capita income. Is this task a classification or a regression task? Why?"
   ]
  },
  {
   "cell_type": "markdown",
   "metadata": {},
   "source": [
    "A regression problem requires the prediction of a quantity. In this problem we're trying to predict per capita income. Since our target value is continuous we can say that this is a regression task."
   ]
  },
  {
   "cell_type": "markdown",
   "metadata": {},
   "source": [
    "2) Which of the following arguments are false and why?\n",
    "\n",
    "- OLS is a special type of linear regression models. \n",
    "- Regression models become useless if they don’t meet the assumptions of linear regression. \n",
    "- Estimation and prediction are the same thing in the context of linear regression models.\n",
    "- Linear regression model is only one kind of regression models. Regression problems can also be solved with other kind of models like Support Vector Machines or Random Forests."
   ]
  },
  {
   "cell_type": "markdown",
   "metadata": {},
   "source": [
    "- OLS is a special type of linear regression models. <b>False</b>\n",
    " * Ordinary least-squares (OLS) models assume that the analysis is fitting a model of a relationship between one or more explanatory variables and a continuous or at least interval outcome variable that minimizes the sum of square errors, where an error is the difference between the actual and the predicted value of the outcome variable. The most common analytical method that utilizes OLS models is linear regression.\n",
    "- Regression models become useless if they don’t meet the assumptions of linear regression. <b>True</b>\n",
    "- Estimation and prediction are the same thing in the context of linear regression models. <b>False</b>\n",
    " * Estimation implies finding the optimal parameter using historical data whereas prediction uses the data to compute the random value of the unseen data.\n",
    "- Linear regression model is only one kind of regression models. Regression problems can also be solved with other kind of models like Support Vector Machines or Random Forests. <b>True</b>"
   ]
  },
  {
   "cell_type": "markdown",
   "metadata": {},
   "source": [
    "3) Assume that your project manager wants you to discover which free services your company offers make your customers buy more of your paid services. Formulate this task as a regression problem and write down the potential outcome and features that you’d like to work on."
   ]
  },
  {
   "cell_type": "markdown",
   "metadata": {},
   "source": [
    "Target (y) = Paid services\n",
    "\n",
    "Features (x1,x2,...,xn) = free_service_1, free_service_2, ..., free_service_n\n",
    "\n",
    "$$ y = \\beta_0 + \\beta_1x_1 + \\beta_2x_2 + ... + \\beta_nx_n + \\epsilon $$"
   ]
  },
  {
   "cell_type": "markdown",
   "metadata": {},
   "source": [
    "$$ total\\enspace paid\\enspace services = \\beta_0 + \\beta_1free\\_service\\_1 + \\beta_2free\\_service\\_2+ ... + \\beta_nfree\\_service\\_n + \\epsilon $$"
   ]
  }
 ],
 "metadata": {
  "kernelspec": {
   "display_name": "Python 3",
   "language": "python",
   "name": "python3"
  },
  "language_info": {
   "codemirror_mode": {
    "name": "ipython",
    "version": 3
   },
   "file_extension": ".py",
   "mimetype": "text/x-python",
   "name": "python",
   "nbconvert_exporter": "python",
   "pygments_lexer": "ipython3",
   "version": "3.8.5"
  }
 },
 "nbformat": 4,
 "nbformat_minor": 4
}
